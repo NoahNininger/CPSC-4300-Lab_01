{
 "cells": [
  {
   "cell_type": "markdown",
   "id": "f20d8132",
   "metadata": {},
   "source": [
    "<div class='heading'>\n",
    "    <div style='float:left;'><h1>CPSC 4300/6300: Applied Data Science</h1></div>\n",
    "    <img style=\"float: right; padding-right: 10px; width: 65px\" src=\"https://raw.githubusercontent.com/bsethwalker/clemson-cs4300/main/images/clemson_paw.png\"> </div><br>\n",
    "    \n",
    "## Week 1: Introduction to Python\n",
    "\n",
    "**Clemson University**<br>\n",
    "**Spring 2024**<br>\n",
    "**Instructor(s):** Nina Hubig <br>\n",
    "**TA(s):** Samaneh Zamanifard, Boqiang Li\n",
    "\n",
    "---"
   ]
  },
  {
   "cell_type": "code",
   "execution_count": 28,
   "id": "f5e28b12",
   "metadata": {},
   "outputs": [
    {
     "data": {
      "text/html": [
       "<style>\n",
       "blockquote { background: #AEDE94; }\n",
       "\n",
       "div.heading {\n",
       "margin-bottom: 25px;\n",
       "height: 75px;\n",
       "}\n",
       "\n",
       "h1 { \n",
       "    padding-top: 25px;\n",
       "    padding-bottom: 25px;\n",
       "    text-align: left; \n",
       "    padding-left: 10px;\n",
       "    color: black;\n",
       "}\n",
       "\n",
       "h2 { \n",
       "    padding-top: 10px;\n",
       "    padding-bottom: 10px;\n",
       "    text-align: left; \n",
       "    padding-left: 5px;\n",
       "    background-color: #EEEEEE; \n",
       "    color: black;\n",
       "}\n",
       "\n",
       "div.exercise {\n",
       "    \n",
       "    background: rgba(245, 102, 0, .75);\n",
       "    border-color: #E9967A;\n",
       "    border-left: 5px solid #522D80; \n",
       "    padding: 0.5em;\n",
       "}\n",
       "\n",
       "div.exercise-r {\n",
       "    background-color: #fce8e8;\n",
       "    border-color: #E9967A; \t\n",
       "    border-left: 5px solid #800080; \n",
       "    padding: 0.5em;\n",
       "}\n",
       "\n",
       "span.sub-q {\n",
       "    font-weight: bold;\n",
       "}\n",
       "div.theme {\n",
       "    background-color: #DDDDDD;\n",
       "    border-color: #E9967A; \t\n",
       "    border-left: 5px solid #800080; \n",
       "    padding: 0.5em;\n",
       "    font-size: 18pt;\n",
       "}\n",
       "div.gc { \n",
       "    background-color: #AEDE94;\n",
       "    border-color: #E9967A; \t \n",
       "    border-left: 5px solid #800080; \n",
       "    padding: 0.5em;\n",
       "    font-size: 12pt;\n",
       "}\n",
       "p.q1 { \n",
       "    padding-top: 5px;\n",
       "    padding-bottom: 5px;\n",
       "    text-align: left; \n",
       "    padding-left: 5px;\n",
       "    background-color: #EEEEEE; \n",
       "    color: black;\n",
       "}\n",
       "header {\n",
       "   padding-top: 35px;\n",
       "    padding-bottom: 35px;\n",
       "    text-align: left; \n",
       "    padding-left: 10px;\n",
       "    background-color: #DDDDDD; \n",
       "    color: black;\n",
       "}\n",
       "</style>"
      ],
      "text/plain": [
       "<IPython.core.display.HTML object>"
      ]
     },
     "execution_count": 28,
     "metadata": {},
     "output_type": "execute_result"
    }
   ],
   "source": [
    "\"\"\" RUN THIS CELL TO GET THE RIGHT FORMATTING \"\"\"\n",
    "import requests\n",
    "from IPython.core.display import HTML\n",
    "css_file = 'https://raw.githubusercontent.com/bsethwalker/clemson-cs4300/main/css/cpsc6300.css'\n",
    "styles = requests.get(css_file).text\n",
    "HTML(styles)"
   ]
  },
  {
   "cell_type": "markdown",
   "id": "99fb4069",
   "metadata": {},
   "source": [
    "<div class=\"exercise\"><b>Exercise1: </b></div>\n",
    "Write a function is_divisible() with arguments start and end that prints the numbers starting from start to end (inclusive) in a single line each. If the number is divisible by 3, print \"Divisible by 3!\" instead of the number; if the number is divisible by 5, print \"Divisible by 5!\". Finally, if it is divisible by both, print \"GO Tigers!\" instead.\n",
    "\n",
    "Example is_divisible(7,16):"
   ]
  },
  {
   "cell_type": "code",
   "execution_count": 14,
   "id": "96641c8f",
   "metadata": {},
   "outputs": [
    {
     "name": "stdout",
     "output_type": "stream",
     "text": [
      "7\n",
      "8\n",
      "Divisible by 3!\n",
      "Divisible by 5!\n",
      "11\n",
      "Divisible by 3!\n",
      "13\n",
      "14\n",
      "GO Tigers\n",
      "16\n"
     ]
    }
   ],
   "source": [
    "def is_divisible(start, end):\n",
    "    if start <= end:\n",
    "        if start % 3 == 0 and start % 5 == 0:\n",
    "            print('GO Tigers')\n",
    "        elif start % 3 == 0:\n",
    "            print('Divisible by 3!')\n",
    "        elif start % 5 == 0:\n",
    "            print('Divisible by 5!')\n",
    "        else:\n",
    "            print(start)\n",
    "            \n",
    "        return is_divisible(start + 1, end)\n",
    "    \n",
    "is_divisible(7,16)"
   ]
  },
  {
   "cell_type": "markdown",
   "id": "755a8dfe",
   "metadata": {},
   "source": [
    "<div class=\"exercise\"><b>Exercise 2: Reverse Given Inputs</b></div>\n",
    "\n",
    "Write a function to reverse the given inputs without using reversed() or reverse() method.\n",
    "\n",
    "The return data type should be the same as the input data type, i.e., String should be returned as a string, and List should be returned as a List."
   ]
  },
  {
   "cell_type": "code",
   "execution_count": 17,
   "id": "235a0f1e",
   "metadata": {},
   "outputs": [],
   "source": [
    "def give_reversed_input(input_param):\n",
    "    left, right = 0, len(input_param) - 1\n",
    "    \n",
    "    while left < right:\n",
    "        input_param[left], input_param[right] = input_param[right], input_param[left]\n",
    "        left += 1\n",
    "        right -= 1\n",
    "    \n",
    "    return input_param"
   ]
  },
  {
   "cell_type": "code",
   "execution_count": 16,
   "id": "24ed46f1",
   "metadata": {},
   "outputs": [],
   "source": [
    "def reverse_input(input_param):\n",
    "    return ''.join(give_reversed_input(list(input_param))) if isinstance(input_param, str) else give_reversed_input(input_param)"
   ]
  },
  {
   "cell_type": "raw",
   "id": "b616d57c",
   "metadata": {},
   "source": [
    "print(reverse_input('ABCDEFG'))\n",
    "print(reverse_input(['A', 'B', 'C', 'D' , 'E', 'F', 'G']))\n",
    "print(reverse_input([1, 2, 3, 4, 5, 6, 8, 9, 10]))"
   ]
  },
  {
   "cell_type": "markdown",
   "id": "48ada4f2",
   "metadata": {},
   "source": [
    "<div class=\"exercise\"><b>Exercise 3: Skipped Characters</b></div>\n",
    "\n",
    "Write a function that takes a string as an input and uses a stride value of 2 to create a new string using every second character of the given string."
   ]
  },
  {
   "cell_type": "code",
   "execution_count": 18,
   "id": "81dbb4e2",
   "metadata": {},
   "outputs": [],
   "source": [
    "def skip_characters(a):\n",
    "    lst = []\n",
    "    \n",
    "    for index in range(0, len(a), 2):\n",
    "        lst.append(a[index])\n",
    "        \n",
    "    return ''.join(lst)"
   ]
  },
  {
   "cell_type": "code",
   "execution_count": 19,
   "id": "2eaca406",
   "metadata": {},
   "outputs": [
    {
     "name": "stdout",
     "output_type": "stream",
     "text": [
      "correct\n",
      "wrong\n"
     ]
    }
   ],
   "source": [
    "print(skip_characters('clocrkr1e1c1t')) # should return the word 'correct'\n",
    "print(skip_characters('wlrcokn1g')) # should return the word 'wrong'"
   ]
  },
  {
   "cell_type": "markdown",
   "id": "e6c4a4d6",
   "metadata": {},
   "source": [
    "<div class=\"exercise\"><b>Exercise 4: Unique Character Index</b></div>\n",
    "\n",
    "Write a function that takes a string that may or may not contain duplicate characters \n",
    "and return the index of the first unique character in the string. If there are no duplicate characters, return a string \"No unique character\"\n",
    "\n",
    "Hint: You can use dictionary "
   ]
  },
  {
   "cell_type": "code",
   "execution_count": 20,
   "id": "713b2191",
   "metadata": {},
   "outputs": [],
   "source": [
    "from collections import Counter\n",
    "\n",
    "def find_first_unique_character(string):\n",
    "    hashmap = {}\n",
    "    \n",
    "    for char in string:\n",
    "        if char in hashmap:\n",
    "            hashmap[char] += 1\n",
    "        else:\n",
    "            hashmap[char] = 1\n",
    "    \n",
    "#     hashmap = Counter(string)\n",
    "    \n",
    "    for index, char in enumerate(string):\n",
    "        if hashmap[char] == 1:\n",
    "            return index\n",
    "    \n",
    "    return 'No unique character'"
   ]
  },
  {
   "cell_type": "code",
   "execution_count": 21,
   "id": "2e823e96",
   "metadata": {},
   "outputs": [
    {
     "name": "stdout",
     "output_type": "stream",
     "text": [
      "0\n",
      "3\n",
      "No unique character\n"
     ]
    }
   ],
   "source": [
    "print(find_first_unique_character('clemson')) # return 0, since every character is unique, and c is the first unique character\n",
    "print(find_first_unique_character('applieddatascience')) # return 3, character 'l'\n",
    "print(find_first_unique_character('cclleemmssoonn')) # return \"No unique character\""
   ]
  },
  {
   "cell_type": "markdown",
   "id": "02cd329a",
   "metadata": {},
   "source": [
    "<div class=\"exercise\"><b>Exercise 5: Convert character case</b></div>\n",
    "\n",
    "Write a function that takes a string containing both upper and lower characters and converts the lower case character to upper case and vice versa. Return the converted string"
   ]
  },
  {
   "cell_type": "code",
   "execution_count": 22,
   "id": "b63670ad",
   "metadata": {},
   "outputs": [],
   "source": [
    "def check_upper(char):\n",
    "    return ord(char) >= 65 and ord(char) <= 90"
   ]
  },
  {
   "cell_type": "code",
   "execution_count": 23,
   "id": "785d7d90",
   "metadata": {},
   "outputs": [],
   "source": [
    "def convert_case(string):\n",
    "    result = []\n",
    "    \n",
    "    for char in string:\n",
    "        if check_upper(char):\n",
    "            char = chr(ord(char) + 32)\n",
    "        else:\n",
    "            char = chr(ord(char) - 32)\n",
    "        \n",
    "        result.append(char)\n",
    "    \n",
    "    return ''.join(result)"
   ]
  },
  {
   "cell_type": "code",
   "execution_count": 24,
   "id": "a0a51001",
   "metadata": {},
   "outputs": [
    {
     "name": "stdout",
     "output_type": "stream",
     "text": [
      "CLEMSON\n",
      "aPPLIEDdATAsCIENCE\n",
      "ClEmsOn\n"
     ]
    }
   ],
   "source": [
    "print(convert_case('clemson')) # return 'CLEMSON'\n",
    "print(convert_case('AppliedDataScience')) # return 'aPPLIEDdATAsCIENCE'\n",
    "print(convert_case('cLeMSoN')) # return 'ClEmsOn'"
   ]
  },
  {
   "cell_type": "markdown",
   "id": "dc9de132",
   "metadata": {},
   "source": [
    "<div class=\"exercise\"><b>Exercise 6: Remove duplicates</b></div>\n",
    "\n",
    "Write a function that takes a list of integers/strings, removes the duplicate elements, and returns a list of unique elements."
   ]
  },
  {
   "cell_type": "code",
   "execution_count": 25,
   "id": "896c02c7",
   "metadata": {},
   "outputs": [],
   "source": [
    "def get_unique_numbers(numbers):\n",
    "    \n",
    "    hashset = set()\n",
    "    unique_numbers = []\n",
    "    \n",
    "    for number in numbers:\n",
    "        if number not in hashset:\n",
    "            unique_numbers.append(number)\n",
    "        hashset.add(number)\n",
    "    \n",
    "    return unique_numbers"
   ]
  },
  {
   "cell_type": "code",
   "execution_count": 26,
   "id": "29a8c510",
   "metadata": {},
   "outputs": [
    {
     "name": "stdout",
     "output_type": "stream",
     "text": [
      "[1, 2, 3, 4, 5]\n",
      "[1, 2, 3, 4, 5]\n",
      "[5, 4, 3, 2, 1]\n",
      "['a', 'b', 'c', 'd']\n"
     ]
    }
   ],
   "source": [
    "print(get_unique_numbers([1, 2, 3, 4, 5])) # return [1,2,3,4,5]\n",
    "print(get_unique_numbers([1, 1, 2, 2, 3, 3, 4, 4, 5, 5])) # return [1,2,3,4,5]\n",
    "print(get_unique_numbers([5, 5, 4, 3, 2, 2, 2, 2, 2, 2, 2, 1])) # return [5,4,3,2,1]\n",
    "print(get_unique_numbers(['a', 'a', 'a', 'b', 'b', 'b', 'c', 'c', 'c', 'd', 'd', 'd'])) # return ['a', 'b', 'c', 'd']"
   ]
  },
  {
   "cell_type": "markdown",
   "id": "2e922e57",
   "metadata": {},
   "source": [
    "<div class=\"exercise\"><b>Exercise 7: Print Elements</b></div>\n",
    "\n",
    "Write a function print_elements(l) that prints every element of the list elements. If an element is a list by itself, the list of elements should be printed one by one instead of printing the whole list of elements at once. To find out if a variable x is a list, use type(x). Note that the function should not return anything!\n",
    "\n",
    "Eg: [1, \"hello\"] should be printed as 1, then \"hello\", instead of [1, \"hello\"]"
   ]
  },
  {
   "cell_type": "code",
   "execution_count": 27,
   "id": "7eef0972",
   "metadata": {},
   "outputs": [],
   "source": [
    "def print_elements(elements):\n",
    "    \n",
    "    for element in elements:\n",
    "        if isinstance(element, list):\n",
    "            print_elements(element)\n",
    "        else:\n",
    "            print(element)"
   ]
  },
  {
   "cell_type": "code",
   "execution_count": 28,
   "id": "eb51e68f",
   "metadata": {},
   "outputs": [
    {
     "name": "stdout",
     "output_type": "stream",
     "text": [
      "1\n",
      "hello\n",
      "3\n",
      "4\n",
      "5\n",
      "6\n",
      "1\n",
      "2\n",
      "3\n"
     ]
    }
   ],
   "source": [
    "print_elements([[1,\"hello\"], 3, [4,5,6],[1,[2,[3]]]])"
   ]
  },
  {
   "cell_type": "code",
   "execution_count": 29,
   "id": "3fb8e783",
   "metadata": {},
   "outputs": [
    {
     "name": "stdout",
     "output_type": "stream",
     "text": [
      "65 90\n"
     ]
    }
   ],
   "source": [
    "print(ord('A'), ord('Z'))"
   ]
  },
  {
   "cell_type": "code",
   "execution_count": 30,
   "id": "05819e00",
   "metadata": {},
   "outputs": [
    {
     "name": "stdout",
     "output_type": "stream",
     "text": [
      "97 122\n"
     ]
    }
   ],
   "source": [
    "print(ord('a'), ord('z'))"
   ]
  },
  {
   "cell_type": "code",
   "execution_count": 31,
   "id": "aebf118a",
   "metadata": {},
   "outputs": [
    {
     "name": "stdout",
     "output_type": "stream",
     "text": [
      "A Z\n"
     ]
    }
   ],
   "source": [
    "print(chr(65), chr(90))"
   ]
  },
  {
   "cell_type": "code",
   "execution_count": 32,
   "id": "762dd175",
   "metadata": {},
   "outputs": [
    {
     "name": "stdout",
     "output_type": "stream",
     "text": [
      "a z\n"
     ]
    }
   ],
   "source": [
    "print(chr(97), chr(122))"
   ]
  },
  {
   "cell_type": "code",
   "execution_count": null,
   "id": "cfb96f7e",
   "metadata": {},
   "outputs": [],
   "source": []
  },
  {
   "cell_type": "code",
   "execution_count": null,
   "id": "38c80e52",
   "metadata": {},
   "outputs": [],
   "source": []
  }
 ],
 "metadata": {
  "kernelspec": {
   "display_name": "Python 3 (ipykernel)",
   "language": "python",
   "name": "python3"
  },
  "language_info": {
   "codemirror_mode": {
    "name": "ipython",
    "version": 3
   },
   "file_extension": ".py",
   "mimetype": "text/x-python",
   "name": "python",
   "nbconvert_exporter": "python",
   "pygments_lexer": "ipython3",
   "version": "3.11.5"
  }
 },
 "nbformat": 4,
 "nbformat_minor": 5
}
